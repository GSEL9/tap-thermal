{
 "cells": [
  {
   "cell_type": "markdown",
   "metadata": {},
   "source": [
    "# TAP Thermal Simulations"
   ]
  },
  {
   "cell_type": "code",
   "execution_count": 2,
   "metadata": {},
   "outputs": [],
   "source": [
    "%matplotlib inline\n",
    "\n",
    "import numpy as np\n",
    "import matplotlib.pyplot as plt\n",
    "\n",
    "from scipy.integrate import odeint\n",
    "from scipy.optimize import curve_fit\n",
    "\n",
    "from gradient import thermal_gradient\n",
    "from one_zone_analytics import one_zone_analytics"
   ]
  },
  {
   "cell_type": "markdown",
   "metadata": {},
   "source": [
    "## One zone reactor configurations"
   ]
  },
  {
   "cell_type": "code",
   "execution_count": 19,
   "metadata": {},
   "outputs": [],
   "source": [
    "gridpoints = 300       \n",
    "\n",
    "space = np.linspace(0, 0.04, gridpoints)\n",
    "step_size = space[-1] / (gridpoints - 1)\n",
    "\n",
    "time = np.linspace(0.0, 1.0, gridpoints)"
   ]
  },
  {
   "cell_type": "markdown",
   "metadata": {},
   "source": [
    "## One zone temperature gradient"
   ]
  },
  {
   "cell_type": "code",
   "execution_count": 18,
   "metadata": {},
   "outputs": [
    {
     "data": {
      "image/png": "[encoded data removed]",
      "text/plain": [
       "<matplotlib.figure.Figure at 0x102d59c88>"
      ]
     },
     "metadata": {},
     "output_type": "display_data"
    }
   ],
   "source": [
    "ref_temp = 298.15\n",
    "temp_measures = [ref_temp + 400, ref_temp + 400, \n",
    "                 ref_temp + 500, ref_temp + 600, \n",
    "                 ref_temp + 500, ref_temp + 400]\n",
    "\n",
    "gradient = thermal_gradient(space, temp_measures)\n",
    "\n",
    "plt.figure(figsize=(12, 6))\n",
    "plt.plot(space, gradient);\n",
    "plt.xlabel('Axial coordinates');\n",
    "plt.ylabel('Temperature (K)');"
   ]
  },
  {
   "cell_type": "markdown",
   "metadata": {},
   "source": [
    "## One zone diffusion model"
   ]
  },
  {
   "cell_type": "code",
   "execution_count": 35,
   "metadata": {},
   "outputs": [],
   "source": [
    "def _one_zone_fd(y, time, *args):\n",
    "    \"\"\"Converts the one-zone diffusion PDE model to ODE by finite differences.\"\"\"\n",
    "\n",
    "    space = np.array(args[0], dtype=float)\n",
    "    gradient = np.array(args[1], dtype=float)\n",
    "\n",
    "    ref_coeff, ref_mass, mass = float(args[2]), float(args[3]), float(args[4])\n",
    "    ref_temp, area, eps =  float(args[4]), float(args[5]), float(args[5])\n",
    "    \n",
    "    gridpoints = int(space.size)\n",
    "    #Solution vector\n",
    "    dydt = np.zeros(gridpoints)\n",
    "    # Parameter coefficient\n",
    "    phi = (step_size ** 2 * eps)\n",
    "    \n",
    "    # Reactor inlet\n",
    "    for index in [1]:\n",
    "        coeff = knudsen_diffusion_coeff(\n",
    "            ref_coeff, mass, gradient[index], ref_mass=ref_mass, ref_temp=ref_temp\n",
    "        )\n",
    "        \n",
    "        initial_condition = 2 * step_size * boundary_condition(time) / (coeff * area)\n",
    "        backward = 1 / 3 * (4 * y[index] - y[index + 1] + initial_condition)\n",
    "        \n",
    "        dydt[index] = coeff / phi * (y[index + 1] - 2 * y[index] + backward)\n",
    "    \n",
    "    # Inner grid\n",
    "    for index in range(2, gridpoints - 2):\n",
    "        coeff = knudsen_diffusion_coeff(\n",
    "            ref_coeff, mass, gradient[index], ref_mass=ref_mass, ref_temp=ref_temp\n",
    "        )\n",
    "        \n",
    "        dydt[index] = coeff / phi * (y[index + 1] - 2 * y[index] + y[index - 1])\n",
    "\n",
    "    # Reactor outlet\n",
    "    for index in [gridpoints - 2]:\n",
    "        coeff = knudsen_diffusion_coeff(\n",
    "            ref_coeff, mass, gradient[index], ref_mass=ref_mass, ref_temp=ref_temp\n",
    "        )\n",
    "        \n",
    "        dydt[index] = coeff / phi * (-2 * y[index] + y[index - 1])\n",
    "        \n",
    "    return dydt"
   ]
  },
  {
   "cell_type": "code",
   "execution_count": 44,
   "metadata": {
    "collapsed": true
   },
   "outputs": [],
   "source": [
    "def _one_zone_numerical(time, ref_coeff):\n",
    "    \"\"\"Returns reactor exit flow.\"\"\"\n",
    "    \n",
    "    solu = odeint(\n",
    "        one_zone_fd, np.zeros(int(space.size)), time, \n",
    "        args=(space, gradient, ref_coeff, ref_mass, mass, ref_temp, area, eps)\n",
    "    )\n",
    "    \n",
    "    return solu[:, -2] * ref_coeff * area / (step_size * num_molecules)"
   ]
  },
  {
   "cell_type": "code",
   "execution_count": 76,
   "metadata": {
    "collapsed": true
   },
   "outputs": [],
   "source": [
    "# NOTE: Trying out old model\n",
    "def one_zone_fd(y, time, *args):\n",
    "    \"\"\"Converts the one-zone diffusion PDE model to ODE by finite differences.\"\"\"\n",
    "\n",
    "    gridpoints, num_mols, tau, Dreff = args[0], args[1], args[2], args[3]\n",
    "    step, area, T, eps = args[4], args[5], args[6], args[7]\n",
    "    \n",
    "    #Solution array\n",
    "    dydt = np.zeros(gridpoints)\n",
    "\n",
    "    # Knudsen diffusion coefficient\n",
    "    coeff = lambda temp: ref_coeff * np.sqrt(temp * ref_mass / ref_temp / mass)\n",
    "\n",
    "    # Boundary condition\n",
    "    boundary_cond = lambda time: (num_mols * time / tau ** 2) * np.exp((-1) * (time / tau))\n",
    "\n",
    "    # Reactor inlet\n",
    "    for i in [1]:\n",
    "        initial_condition = 2 * step * boundary_cond(time) / (coeff(T[i]) * area)\n",
    "        backward = 1 / 3 * (4 * y[i] - y[i + 1] + initial_condition)\n",
    "        \n",
    "        dydt[i] = coeff(T[i]) * (y[i + 1] - 2 * y[i] + backward) / step ** 2  / eps\n",
    "\n",
    "    # Internal grid \n",
    "    for i in range(2, gridpoints - 2):\n",
    "        dydt[i] = coeff(T[i]) * (y[i + 1] - 2*y[i] + y[i - 1]) / step ** 2 / eps\n",
    "\n",
    "    # Reactor outlet\n",
    "    for i in [gridpoints - 2]:\n",
    "        dydt[i] = coeff(T[i]) * (-2*y[i] + y[i-1]) / step ** 2 / eps\n",
    "    return dydt"
   ]
  },
  {
   "cell_type": "code",
   "execution_count": 77,
   "metadata": {},
   "outputs": [],
   "source": [
    "# NOTE: Trying out old model\n",
    "def one_zone_numerical(time, ref_coeff):\n",
    "    \"\"\"Returns reactor exit flow.\"\"\"\n",
    "    \n",
    "    solu = odeint(\n",
    "        one_zone_fd, np.zeros(int(space.size)), time, \n",
    "        args=(gridpoints, num_molecules, tau, ref_coeff, step_size, area, gradient, eps)\n",
    "    )\n",
    "    \n",
    "    return solu[:, -2] * ref_coeff * area / (step_size * num_molecules)"
   ]
  },
  {
   "cell_type": "code",
   "execution_count": 78,
   "metadata": {},
   "outputs": [
    {
     "data": {
      "text/plain": [
       "[<matplotlib.lines.Line2D at 0x151343d908>]"
      ]
     },
     "execution_count": 78,
     "metadata": {},
     "output_type": "execute_result"
    },
    {
     "data": {
      "image/png": "[encoded data removed]",
      "text/plain": [
       "<matplotlib.figure.Figure at 0x1084173c8>"
      ]
     },
     "metadata": {},
     "output_type": "display_data"
    }
   ],
   "source": [
    "# Parameters\n",
    "eps = 0.4\n",
    "tau = 1.e-3\n",
    "mass = 40.0\n",
    "ref_mass = 40.0\n",
    "num_molecules = 1.e-9\n",
    "area = np.pi * (0.0055) ** 2\n",
    "\n",
    "ref_coeff = 5.e-3\n",
    "\n",
    "model = one_zone_numerical(time, ref_coeff)\n",
    "\n",
    "plt.figure()\n",
    "plt.plot(space, model)"
   ]
  },
  {
   "cell_type": "markdown",
   "metadata": {},
   "source": [
    "## Three zone reactor configurations"
   ]
  },
  {
   "cell_type": "code",
   "execution_count": null,
   "metadata": {
    "collapsed": true
   },
   "outputs": [],
   "source": [
    "# Reactor configuration\n",
    "zones = [0.016, 0.008, 0.016]\n",
    "num_gridpoints = 1000\n",
    "\n",
    "zones_grid = [int(zone_length * num_gridpoints) for zone_length in zones]\n",
    "\n",
    "time = np.linspace(0.0, 1.0, num_gridpoints)\n",
    "grid = np.linspace(0.0, sum(zones), sum(axial_grid))\n",
    "\n",
    "step_size = grid[-1] / (int(grid.size) - 1)\n",
    "\n",
    "\n"
   ]
  },
  {
   "cell_type": "markdown",
   "metadata": {},
   "source": [
    "## Three zone temperature gradient"
   ]
  },
  {
   "cell_type": "code",
   "execution_count": 42,
   "metadata": {},
   "outputs": [
    {
     "data": {
      "image/png": "[encoded data removed]",
      "text/plain": [
       "<matplotlib.figure.Figure at 0x108048fd0>"
      ]
     },
     "metadata": {},
     "output_type": "display_data"
    }
   ],
   "source": [
    "ref_temp = 298.15\n",
    "temp_measures = [ref_temp + 400, ref_temp + 400, \n",
    "                 ref_temp + 500, ref_temp + 600, \n",
    "                 ref_temp + 500, ref_temp + 400]\n",
    "\n",
    "gradient = thermal_gradient(space, temp_measures)\n",
    "\n",
    "plt.figure(figsize=(12, 6))\n",
    "plt.plot(space, gradient);\n",
    "plt.xlabel('Axial coordinates');\n",
    "plt.ylabel('Temperature (K)');"
   ]
  },
  {
   "cell_type": "markdown",
   "metadata": {},
   "source": [
    "## Three zone diffusion model"
   ]
  },
  {
   "cell_type": "code",
   "execution_count": null,
   "metadata": {
    "collapsed": true
   },
   "outputs": [],
   "source": [
    "def three_zone_fd(y, time, *args):\n",
    "    \"\"\"Converts the three-zone diffusion PDE model to ODE by finite differences.\"\"\"\n",
    "    \n",
    "    grid, gradient = np.array(args[0], dtype=float), np.array(args[1], dtype=float)\n",
    "    \n",
    "    ref_coeffs = np.array(args[2], dtype=float)\n",
    "    \n",
    "    ref_mass, mass = float(args[3]), float(args[4])\n",
    "    ref_temp, area, eps =  float(args[4]), float(args[5]), float(args[6])\n",
    "    \n",
    "    dydt = np.zeros(int(grid.size))\n",
    "    \n",
    "    num_gridpoints = int(grid.size)\n",
    "    \n",
    "    step_size = grid[-1] / (num_gridpoints - 1)\n",
    "\n",
    "    theta = (eps * step_size ** 2)\n",
    "    \n",
    "    ref_coeff = ref_coeffs[0]\n",
    "    for index in [1]:\n",
    "        coeff = knudsen_diffusion_coeff(\n",
    "            ref_coeff, mass, gradient[index], ref_mass=ref_mass, ref_temp=ref_temp\n",
    "        )\n",
    "        \n",
    "        initial_condition = 2 * step_size * boundary_condition(time) / (coeff * area)\n",
    "        backward = 1 / 3 * (4 * y[index] - y[index + 1] + initial_condition)\n",
    "        \n",
    "        dydt[index] = coeff / theta * (y[index + 1] - 2 * y[index] + backward)\n",
    "        \n",
    "    for index in range(2, zones_grid[0] - 1):\n",
    "        coeff = knudsen_diffusion_coeff(\n",
    "            ref_coeff, mass, gradient[index], ref_mass=ref_mass, ref_temp=ref_temp\n",
    "        )\n",
    "        \n",
    "        dydt[index] = coeff / theta * (y[index + 1] - 2 * y[index] + y[index - 1])\n",
    "        \n",
    "    for index in [zones_grid[0] - 1]:\n",
    "        coeff = knudsen_diffusion_coeff(\n",
    "            ref_coeff, mass, gradient[index], ref_mass=ref_mass, ref_temp=ref_temp\n",
    "        )\n",
    "        \n",
    "        eta_one = coeff = knudsen_diffusion_coeff(\n",
    "            ref_coeffs[0], mass, gradient[index], ref_mass=ref_mass, ref_temp=ref_temp\n",
    "        )\n",
    "        eta_two = coeff = knudsen_diffusion_coeff(\n",
    "            ref_coeffs[1], mass, gradient[index], ref_mass=ref_mass, ref_temp=ref_temp\n",
    "        )\n",
    "        \n",
    "        backward = 4 * eta_one * y[index] - eta_one * y[index - 1]\n",
    "        forward = 4 * eta_two * y[index + 2] - eta_two * y[index + 3]\n",
    "        zone_final = (backward + forward) / (3 * eta_one + 3 * eta_two)\n",
    "\n",
    "        dydt[index] = coeff / theta * (zone_final - 2 * y[index] + y[index - 1])\n",
    "        \n",
    "    for index in [zones_grid[0]]:\n",
    "        coeff = knudsen_diffusion_coeff(\n",
    "            ref_coeff, mass, gradient[index], ref_mass=ref_mass, ref_temp=ref_temp\n",
    "        )\n",
    "        \n",
    "        eta_one = knudsen_diffusion_coeff(\n",
    "            ref_coeffs[0], mass, gradient[index], ref_mass=ref_mass, ref_temp=ref_temp\n",
    "        )\n",
    "        eta_two = knudsen_diffusion_coeff(\n",
    "            ref_coeffs[1], mass, gradient[index], ref_mass=ref_mass, ref_temp=ref_temp\n",
    "        )\n",
    "        \n",
    "        backward = 4 * eta_one * y[index - 1] - eta_one * y[index - 2]\n",
    "        forward = 4 * eta_two * y[index + 1] - eta_two * y[index + 2]\n",
    "        boundary = (backward + forward) / (3 * eta_one + 3 * eta_two)\n",
    "\n",
    "        dydt[index] = coeff / theta * (y[index + 1] - 2 * boundary + y[index - 1])\n",
    "    \n",
    "    for index in [zones_grid[0] + 1]:\n",
    "        coeff = knudsen_diffusion_coeff(\n",
    "            ref_coeff, mass, gradient[index], ref_mass=ref_mass, ref_temp=ref_temp\n",
    "        )\n",
    "        \n",
    "        eta_one = knudsen_diffusion_coeff(\n",
    "            ref_coeffs[0], mass, gradient[index], ref_mass=ref_mass, ref_temp=ref_temp\n",
    "        )\n",
    "        eta_two = knudsen_diffusion_coeff(\n",
    "            ref_coeffs[1], mass, gradient[index], ref_mass=ref_mass, ref_temp=ref_temp\n",
    "        )\n",
    "        \n",
    "        backward = 4 * eta_one * y[index - 2] - eta_one * y[index - 3]\n",
    "        forward = 4 * eta_two * y[index + 2] - eta_two * y[index + 3]\n",
    "        zone_initial = (backward + forward) / (3 * eta_one + 3 * eta_two)\n",
    "\n",
    "        dydt[index] = coeff / theta * (y[index + 1] - 2 * y[index] + zone_initial)\n",
    "    \n",
    "    ref_coeff = ref_coeffs[1]\n",
    "    for index in range (zones_grid[0] + 2, zones_grid[0] + zones_grid[1] - 1):\n",
    "        coeff = knudsen_diffusion_coeff(\n",
    "            ref_coeff, mass, gradient[index], ref_mass=ref_mass, ref_temp=ref_temp\n",
    "        )\n",
    "        \n",
    "        dydt[index] = coeff / theta * (y[index + 1] - 2 * y[index] + y[index - 1])\n",
    "        \n",
    "    for index in [zones_grid[0] + zones_grid[1] - 1]:\n",
    "        coeff = knudsen_diffusion_coeff(\n",
    "            ref_coeff, mass, gradient[index], ref_mass=ref_mass, ref_temp=ref_temp\n",
    "        )\n",
    "        \n",
    "        eta_two = knudsen_diffusion_coeff(\n",
    "            ref_coeffs[1], mass, gradient[index], ref_mass=ref_mass, ref_temp=ref_temp\n",
    "        )\n",
    "        eta_three = knudsen_diffusion_coeff(\n",
    "            ref_coeffs[2], mass, gradient[index], ref_mass=ref_mass, ref_temp=ref_temp\n",
    "        )\n",
    "        \n",
    "        backward = 4 * eta_two * y[index] - eta_two * y[index - 1]\n",
    "        forward = 4 * eta_three * y[index + 2] - eta_three * y[index + 3]\n",
    "        zone_final = (3 * eta_two + 3 * eta_three)\n",
    "\n",
    "        dydt[index] = coeff / theta * (zone_final - 2 * y[index] + y[index - 1])\n",
    "    \n",
    "    for index in [zones_grid[0] + zones_grid[1]]:\n",
    "        coeff = knudsen_diffusion_coeff(\n",
    "            ref_coeff, mass, gradient[index], ref_mass=ref_mass, ref_temp=ref_temp\n",
    "        )\n",
    "        \n",
    "        eta_two = knudsen_diffusion_coeff(\n",
    "            ref_coeffs[1], mass, gradient[index], ref_mass=ref_mass, ref_temp=ref_temp\n",
    "        )\n",
    "        eta_three = knudsen_diffusion_coeff(\n",
    "            ref_coeffs[2], mass, gradient[index], ref_mass=ref_mass, ref_temp=ref_temp\n",
    "        )\n",
    "        \n",
    "        backward = 4 * eta_one * y[index - 1] - eta_one * y[index - 2]\n",
    "        forward = 4 * eta_two * y[index + 1] - eta_two * y[index + 2]\n",
    "        boundary = (backward + forward) / (3 * eta_two + 3 * eta_three)\n",
    "\n",
    "        dydt[index] = coeff / theta * (y[index + 1] - 2 * boundary + y[index - 1])\n",
    "        \n",
    "    for index in [zones_grid[0] + zones_grid[1] + 1]:\n",
    "        coeff = knudsen_diffusion_coeff(\n",
    "            ref_coeff, mass, gradient[index], ref_mass=ref_mass, ref_temp=ref_temp\n",
    "        )\n",
    "        \n",
    "        eta_two = knudsen_diffusion_coeff(\n",
    "            ref_coeffs[1], mass, gradient[index], ref_mass=ref_mass, ref_temp=ref_temp\n",
    "        )\n",
    "        eta_three = knudsen_diffusion_coeff(\n",
    "            ref_coeffs[2], mass, gradient[index], ref_mass=ref_mass, ref_temp=ref_temp\n",
    "        )\n",
    "        \n",
    "        backward = 4 * eta_two * y[index - 2] - eta_two * y[index - 3]\n",
    "        forward = 4 * eta_three * y[index + 2] - eta_three * y[index + 3]\n",
    "        zone_initial = (backward + forward) / (3 * eta_two + 3 * eta_three)\n",
    "\n",
    "        dydt[index] = coeff / theta * (y[index + 1] - 2 * y[index] + zone_initial)\n",
    "        \n",
    "    ref_coeff = ref_coeffs[2]\n",
    "    for index in range(zones_grid[0] + zones_grid[1] + 2, sum(zones_grid) - 2):\n",
    "        coeff = knudsen_diffusion_coeff(\n",
    "            ref_coeff, mass, gradient[index], ref_mass=ref_mass, ref_temp=ref_temp\n",
    "        )\n",
    "        \n",
    "        dydt[index] = coeff / theta  * (y[index + 1] - 2 * y[index] + y[index - 1])\n",
    "    \n",
    "    for index in [sum(zones_grid) - 2]:\n",
    "        coeff = knudsen_diffusion_coeff(\n",
    "            ref_coeff, mass, gradient[index], ref_mass=ref_mass, ref_temp=ref_temp\n",
    "        )\n",
    "\n",
    "        dydt[index] = coeff / theta  * (-2 * y[index] + y[index - 1])\n",
    "        \n",
    "    return dydt"
   ]
  },
  {
   "cell_type": "code",
   "execution_count": null,
   "metadata": {},
   "outputs": [],
   "source": [
    "def three_zone_numerical(time, ref_coeffs):\n",
    "    \n",
    "    initial = np.zeros(int(grid.size))\n",
    "    \n",
    "    solu = odeint(three_zone_fd, \n",
    "                  np.zeros(int(grid.size)), \n",
    "                  time, \n",
    "                  args=(grid, \n",
    "                        gradient, \n",
    "                        ref_coeffs,\n",
    "                        ref_mass,\n",
    "                        mass,\n",
    "                        ref_temp,\n",
    "                        area,\n",
    "                        eps))\n",
    "    \n",
    "    return solu[:, -2] * ref_coeffs[1] * area / (step_size * num_molecules)"
   ]
  },
  {
   "cell_type": "code",
   "execution_count": null,
   "metadata": {},
   "outputs": [],
   "source": [
    "# Parameters\n",
    "eps = 0.4\n",
    "mass = 40.0\n",
    "ref_mass = 40.0\n",
    "num_molecules = 1.e-9\n",
    "area = np.pi * (0.0055) ** 2\n",
    "\n",
    "ref_coeffs = [5.e-3, 5.e-3, 5.e-3]\n",
    "\n",
    "model = three_zone_numerical(time, ref_coeffs)"
   ]
  },
  {
   "cell_type": "code",
   "execution_count": null,
   "metadata": {},
   "outputs": [],
   "source": []
  },
  {
   "cell_type": "code",
   "execution_count": null,
   "metadata": {
    "collapsed": true
   },
   "outputs": [],
   "source": []
  }
 ],
 "metadata": {
  "kernelspec": {
   "display_name": "Python [conda env:anaconda]",
   "language": "python",
   "name": "conda-env-anaconda-py"
  },
  "language_info": {
   "codemirror_mode": {
    "name": "ipython",
    "version": 3
   },
   "file_extension": ".py",
   "mimetype": "text/x-python",
   "name": "python",
   "nbconvert_exporter": "python",
   "pygments_lexer": "ipython3",
   "version": "3.6.3"
  }
 },
 "nbformat": 4,
 "nbformat_minor": 2
}

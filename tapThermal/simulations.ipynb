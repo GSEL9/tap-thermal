{
 "cells": [
  {
   "cell_type": "markdown",
   "metadata": {},
   "source": [
    "# TAP Thermal Simulations"
   ]
  },
  {
   "cell_type": "code",
   "execution_count": null,
   "metadata": {
    "collapsed": true
   },
   "outputs": [],
   "source": [
    "%matplotlib inline\n",
    "\n",
    "import numpy as np\n",
    "import matplotlib.pyplot as plt\n",
    "\n",
    "from scipy.stats.distributions import t as stud_t\n",
    "\n",
    "from scipy.integrate import odeint\n",
    "from scipy.optimize import curve_fit\n",
    "\n",
    "from gradient import thermal_gradient\n",
    "from numerical_models import one_zone_numerical, three_zone_numerical\n",
    "from one_zone_analytics import one_zone_analytics"
   ]
  },
  {
   "cell_type": "code",
   "execution_count": null,
   "metadata": {
    "collapsed": true
   },
   "outputs": [],
   "source": [
    "def plot_exit_flow(time, model, figsize=(12, 6)):\n",
    "    \n",
    "    plt.figure(figsize=figsize)\n",
    "    plt.title('Reactor exit flow', fontsize=16)\n",
    "    plt.plot(time, model)\n",
    "    plt.xlabel('Time (s)', fontsize=15)\n",
    "    plt.ylabel('Exit flow (mol / s)', fontsize=15)\n",
    "    plt.tight_layout()\n",
    "    \n",
    "    return plt"
   ]
  },
  {
   "cell_type": "code",
   "execution_count": null,
   "metadata": {
    "collapsed": true
   },
   "outputs": [],
   "source": [
    "def compare_to_analytical(time, analytical, model, label, figsize=(12, 6)):\n",
    "    \n",
    "    plt.figure(figsize=figsize)\n",
    "    plt.title('Reactor exit flow', fontsize=16)\n",
    "    plt.plot(time, analytical, label='analytical model')\n",
    "    plt.plot(time, one_zone_model, label=label)\n",
    "    plt.xlabel('Time (s)', fontsize=15)\n",
    "    plt.ylabel('Exit flow (mol / s)', fontsize=15)\n",
    "    plt.legend(loc='best')\n",
    "    \n",
    "    return plt"
   ]
  },
  {
   "cell_type": "code",
   "execution_count": null,
   "metadata": {
    "collapsed": true
   },
   "outputs": [],
   "source": [
    "def plot_temp_gradient(space, gradient, figsize=(12, 6)):\n",
    "    \n",
    "    plt.figure(figsize=figsize)\n",
    "    plt.title('Reactor temperature gradient', fontsize=16)\n",
    "    plt.plot(space, gradient, 'r--o')\n",
    "    plt.xlabel('Axial coordinates', fontsize=15)\n",
    "    plt.ylabel('Temperature (K)', fontsize=15)\n",
    "    \n",
    "    return plt"
   ]
  },
  {
   "cell_type": "code",
   "execution_count": null,
   "metadata": {
    "collapsed": true
   },
   "outputs": [],
   "source": [
    "def plot_model_validation(time, *args):\n",
    "    \n",
    "    analytical_model = args[0]\n",
    "    one_zone_model, three_zone_model = args[1], args[2]\n",
    "    \n",
    "    plt.figure(figsize=(12, 8))\n",
    "    plt.title('Model validation')\n",
    "    plt.plot(time, one_zone_model, label='one zone numerical model')\n",
    "    plt.plot(time, analytical_model, label='analytical model')\n",
    "    plt.plot(time, three_zone_model, label='three zone numerical model')\n",
    "    plt.xlabel('Time (s)', fontsize=15)\n",
    "    plt.ylabel('Exit flow (mol / s)', fontsize=15)\n",
    "    plt.legend(loc='best', fontsize=15)\n",
    "    \n",
    "    return plt"
   ]
  },
  {
   "cell_type": "code",
   "execution_count": null,
   "metadata": {
    "collapsed": true
   },
   "outputs": [],
   "source": [
    "def student_t_stats(samples, pcov, popt, alpha=0.05):\n",
    "    \n",
    "    num_samples = len(samples)\n",
    "    num_params = len(popt)\n",
    "    \n",
    "    deg_of_freedom = max(0, num_samples - num_params)\n",
    "    \n",
    "    t_value = stud_t.ppf(1.0 - 0.5 * alpha, deg_of_freedom)\n",
    "    \n",
    "    conf_invervals = []\n",
    "    for var in (np.diag(pcov)):\n",
    "        sigma = var**0.5\n",
    "        conf_intervals.append(sigma * t_value) \n",
    "        \n",
    "    return conf_invervals"
   ]
  },
  {
   "cell_type": "markdown",
   "metadata": {},
   "source": [
    "# Model validation\n",
    "\n",
    "Reactor config"
   ]
  },
  {
   "cell_type": "code",
   "execution_count": null,
   "metadata": {
    "collapsed": true
   },
   "outputs": [],
   "source": [
    "area = np.pi * (0.00275) ** 2\n",
    "\n",
    "gridpoints = 1000\n",
    "\n",
    "space = np.linspace(0, 0.04, gridpoints)\n",
    "step_size = space[-1] / (gridpoints - 1)"
   ]
  },
  {
   "cell_type": "markdown",
   "metadata": {},
   "source": [
    "Assuming constant temperature "
   ]
  },
  {
   "cell_type": "code",
   "execution_count": null,
   "metadata": {},
   "outputs": [],
   "source": [
    "ref_temp = 298.15\n",
    "\n",
    "temp_measures = [ref_temp, ref_temp]\n",
    "gradient = thermal_gradient(space, temp_measures)\n",
    "\n",
    "plot_temp_gradient(space, gradient)\n",
    "plt.tight_layout()"
   ]
  },
  {
   "cell_type": "markdown",
   "metadata": {},
   "source": [
    "Model comparison"
   ]
  },
  {
   "cell_type": "code",
   "execution_count": null,
   "metadata": {
    "collapsed": true
   },
   "outputs": [],
   "source": [
    "# Analytical model and one zone reactor setup\n",
    "ref_coeffs = [5.e-3] * 3\n",
    "time = np.linspace(0.0, 1.0, 1000)"
   ]
  },
  {
   "cell_type": "code",
   "execution_count": null,
   "metadata": {},
   "outputs": [],
   "source": [
    "analytical_model = one_zone_analytics(\n",
    "    dimensional=True,\n",
    "    adsorption=False,\n",
    "    **{\n",
    "        'time': time,\n",
    "        'space': space,\n",
    "        'num_molecules': 1.e-9,\n",
    "        'eps': 0.4,\n",
    "        'coeff': ref_coeffs[1]\n",
    "    }\n",
    ")"
   ]
  },
  {
   "cell_type": "code",
   "execution_count": null,
   "metadata": {},
   "outputs": [],
   "source": [
    "one_zone_model = one_zone_numerical(\n",
    "    (time, gradient, gridpoints, step_size, area), ref_coeffs[1],\n",
    ")"
   ]
  },
  {
   "cell_type": "code",
   "execution_count": null,
   "metadata": {
    "collapsed": true
   },
   "outputs": [],
   "source": [
    "# Three zone reactor setup\n",
    "zones = np.array([0.016, 0.008, 0.016], dtype=float)\n",
    "\n",
    "grid = np.array(zones * gridpoints, dtype=int)\n",
    "grid_size = np.sum(grid)\n",
    "\n",
    "step_size = np.sum(zones) / (grid_size - 1)\n",
    "\n",
    "space = np.linspace(0, np.sum(zones), grid_size)\n",
    "\n",
    "gradient = thermal_gradient(space, temp_measures)"
   ]
  },
  {
   "cell_type": "code",
   "execution_count": null,
   "metadata": {
    "collapsed": true
   },
   "outputs": [],
   "source": [
    "three_zone_model = three_zone_numerical(\n",
    "    (time, gradient, grid, step_size, area), ref_coeffs\n",
    ")"
   ]
  },
  {
   "cell_type": "code",
   "execution_count": null,
   "metadata": {
    "collapsed": true
   },
   "outputs": [],
   "source": [
    "plot_model_validation(time, analytical_model, one_zone_model, three_zone_model)\n",
    "plt.tight_layout()"
   ]
  },
  {
   "cell_type": "markdown",
   "metadata": {},
   "source": [
    "# Non-linear least squares approximation to uniform reactor\n",
    "\n",
    "Experimental setup"
   ]
  },
  {
   "cell_type": "code",
   "execution_count": null,
   "metadata": {
    "collapsed": true
   },
   "outputs": [],
   "source": [
    "gridpoints = 300\n",
    "\n",
    "space = np.linspace(0, 0.04, gridpoints)\n",
    "step_size = space[-1] / (gridpoints - 1)"
   ]
  },
  {
   "cell_type": "markdown",
   "metadata": {},
   "source": [
    "Defining temp gradient"
   ]
  },
  {
   "cell_type": "code",
   "execution_count": null,
   "metadata": {
    "collapsed": true
   },
   "outputs": [],
   "source": [
    "ref_temp = 298.15\n",
    "\n",
    "temp_measures = [ref_temp + 200, ref_temp + 300,\n",
    "                 ref_temp + 600, ref_temp + 600,\n",
    "                 ref_temp + 600, ref_temp + 600,\n",
    "                 ref_temp + 300, ref_temp + 200]\n",
    "gradient = thermal_gradient(space, temp_measures)\n",
    "\n",
    "plot_temp_gradient(space, gradient)\n",
    "plt.tight_layout()"
   ]
  },
  {
   "cell_type": "markdown",
   "metadata": {},
   "source": [
    "One zone model with non-constant gradient"
   ]
  },
  {
   "cell_type": "code",
   "execution_count": null,
   "metadata": {
    "collapsed": true
   },
   "outputs": [],
   "source": [
    "one_zone_model = one_zone_numerical(\n",
    "    (time, gradient, gridpoints, step_size, area), ref_coeffs[1]\n",
    ")"
   ]
  },
  {
   "cell_type": "markdown",
   "metadata": {},
   "source": [
    "Comparing to standard curve"
   ]
  },
  {
   "cell_type": "code",
   "execution_count": null,
   "metadata": {
    "collapsed": true
   },
   "outputs": [],
   "source": [
    "compare_to_analytical(time, \n",
    "                      analytical_model, \n",
    "                      one_zone_model, \n",
    "                      label='numerical one zone model')\n",
    "plt.tight_layout()"
   ]
  },
  {
   "cell_type": "markdown",
   "metadata": {},
   "source": [
    "A temp difference of "
   ]
  },
  {
   "cell_type": "code",
   "execution_count": null,
   "metadata": {
    "collapsed": true
   },
   "outputs": [],
   "source": [
    "np.max(temp_measures) - np.min(temp_measures)"
   ]
  },
  {
   "cell_type": "markdown",
   "metadata": {},
   "source": [
    "Kelvin along the reactor indicates influencing the diffusion process. Estimation of diffusion coefficient"
   ]
  },
  {
   "cell_type": "code",
   "execution_count": null,
   "metadata": {
    "collapsed": true
   },
   "outputs": [],
   "source": [
    "param_estimate = 4.5e-3\n",
    "\n",
    "popt, pcov = curve_fit(one_zone_numerical,\n",
    "                       (time, gradient, gridpoints, step_size, area),\n",
    "                       one_zone_model, \n",
    "                       p0=param_estimate, \n",
    "                       method='lm')\n",
    "\n",
    "print('Estimated diffusion coefficient {} with covariance {}'.format(popt, pcov))"
   ]
  },
  {
   "cell_type": "markdown",
   "metadata": {},
   "source": [
    "# Non-linear least squares approximation to three-zone reactor\n",
    "\n",
    "Experimental setup"
   ]
  },
  {
   "cell_type": "code",
   "execution_count": null,
   "metadata": {
    "collapsed": true
   },
   "outputs": [],
   "source": [
    "# Three zone reactor setup\n",
    "zones = np.array([0.016, 0.008, 0.016], dtype=float)\n",
    "\n",
    "grid = np.array(zones * gridpoints, dtype=int)\n",
    "grid_size = np.sum(grid)\n",
    "\n",
    "step_size = np.sum(zones) / (grid_size - 1)\n",
    "\n",
    "space = np.linspace(0, np.sum(zones), grid_size)\n",
    "\n",
    "gradient = thermal_gradient(space, temp_measures)"
   ]
  },
  {
   "cell_type": "markdown",
   "metadata": {},
   "source": [
    "Defining temp gradient"
   ]
  },
  {
   "cell_type": "code",
   "execution_count": null,
   "metadata": {
    "collapsed": true
   },
   "outputs": [],
   "source": [
    "temp_measures = [ref_temp + 300, ref_temp + 400,\n",
    "                 ref_temp + 600, ref_temp + 600,\n",
    "                 ref_temp + 600, ref_temp + 600,\n",
    "                 ref_temp + 600, ref_temp + 600,\n",
    "                 ref_temp + 500, ref_temp + 400]\n",
    "gradient = thermal_gradient(space, temp_measures)\n",
    "\n",
    "plot_temp_gradient(space, gradient)\n",
    "plt.tight_layout()"
   ]
  },
  {
   "cell_type": "markdown",
   "metadata": {},
   "source": [
    "Three zone model with non-constant gradient"
   ]
  },
  {
   "cell_type": "code",
   "execution_count": null,
   "metadata": {
    "collapsed": true
   },
   "outputs": [],
   "source": [
    "three_zone_model = three_zone_numerical(\n",
    "    (time, gradient, grid, step_size, area), ref_coeffs\n",
    ")"
   ]
  },
  {
   "cell_type": "markdown",
   "metadata": {},
   "source": [
    "which compared to the standard curve"
   ]
  },
  {
   "cell_type": "code",
   "execution_count": null,
   "metadata": {
    "collapsed": true
   },
   "outputs": [],
   "source": [
    "compare_to_analytical(time, analytical_model, three_zone_model, label='three zone model')\n",
    "plt.tight_layout()"
   ]
  },
  {
   "cell_type": "markdown",
   "metadata": {},
   "source": [
    "indicates that a temparature gradient singificantly influences the diffusion process. Estimating diffusion coefficients:"
   ]
  },
  {
   "cell_type": "code",
   "execution_count": null,
   "metadata": {
    "collapsed": true
   },
   "outputs": [],
   "source": [
    "param_estimate = [4.5e-3] * 3\n",
    "\n",
    "popt, pcov = curve_fit(three_zone_numerical,\n",
    "                       (time, gradient, grid, step_size, area),\n",
    "                       one_zone_model, \n",
    "                       p0=param_estimate, \n",
    "                       method='lm')\n",
    "\n",
    "print('Estimated diffusion coefficients {} with covariance {}'.format(popt, pcov))"
   ]
  },
  {
   "cell_type": "code",
   "execution_count": null,
   "metadata": {
    "collapsed": true
   },
   "outputs": [],
   "source": []
  }
 ],
 "metadata": {
  "kernelspec": {
   "display_name": "Python [conda env:anaconda]",
   "language": "python",
   "name": "conda-env-anaconda-py"
  },
  "language_info": {
   "codemirror_mode": {
    "name": "ipython",
    "version": 3
   },
   "file_extension": ".py",
   "mimetype": "text/x-python",
   "name": "python",
   "nbconvert_exporter": "python",
   "pygments_lexer": "ipython3",
   "version": "3.6.3"
  }
 },
 "nbformat": 4,
 "nbformat_minor": 2
}

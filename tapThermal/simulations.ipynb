{
 "cells": [
  {
   "cell_type": "markdown",
   "metadata": {},
   "source": [
    "# TAP Thermal Simulations"
   ]
  },
  {
   "cell_type": "code",
   "execution_count": 1,
   "metadata": {
    "collapsed": true
   },
   "outputs": [],
   "source": [
    "%matplotlib inline\n",
    "\n",
    "import numpy as np\n",
    "import matplotlib.pyplot as plt\n",
    "\n",
    "from scipy.integrate import odeint\n",
    "from scipy.optimize import curve_fit\n",
    "\n",
    "from gradient import thermal_gradient\n",
    "from one_zone_analytics import one_zone_analytics"
   ]
  },
  {
   "cell_type": "code",
   "execution_count": 2,
   "metadata": {
    "collapsed": true
   },
   "outputs": [],
   "source": [
    "def knudsen_diffusion_coeff(temp, ref_coeff, ref_temp=298.15, ref_mass=40.0, mass=40.0):\n",
    "    \"\"\"Knudsen diffusion coefficient\"\"\"\n",
    "    \n",
    "    return ref_coeff * np.sqrt(temp * ref_mass / (ref_temp * mass))"
   ]
  },
  {
   "cell_type": "code",
   "execution_count": 3,
   "metadata": {
    "collapsed": true
   },
   "outputs": [],
   "source": [
    "def boundary_condition(time, num_molecules=1e-9, tau=1e-3):\n",
    "    \"\"\"Boundary condition of diffusion model\"\"\"\n",
    "    \n",
    "    # NOTE: Avoiding overflow\n",
    "    # exp = np.exp(np.log(np.exp(time / tau)))\n",
    "    \n",
    "    return (num_molecules * time / (tau ** 2)) / np.exp(time / tau)"
   ]
  },
  {
   "cell_type": "code",
   "execution_count": 4,
   "metadata": {
    "collapsed": true
   },
   "outputs": [],
   "source": [
    "def plot_exit_flow(time, model, figsize=(12, 6)):\n",
    "    \n",
    "    plt.figure(figsize=figsize)\n",
    "    plt.plot(time, model)\n",
    "    \n",
    "    return plt"
   ]
  },
  {
   "cell_type": "markdown",
   "metadata": {},
   "source": [
    "## One zone reactor configurations"
   ]
  },
  {
   "cell_type": "code",
   "execution_count": 5,
   "metadata": {
    "collapsed": true
   },
   "outputs": [],
   "source": [
    "gridpoints = 300       \n",
    "\n",
    "space = np.linspace(0, 0.04, gridpoints)\n",
    "step_size = space[-1] / (gridpoints - 1)"
   ]
  },
  {
   "cell_type": "markdown",
   "metadata": {},
   "source": [
    "## One zone temperature gradient"
   ]
  },
  {
   "cell_type": "code",
   "execution_count": 6,
   "metadata": {},
   "outputs": [
    {
     "data": {
      "image/png": "[encoded data removed]",
      "text/plain": [
       "<matplotlib.figure.Figure at 0x1102f9a90>"
      ]
     },
     "metadata": {},
     "output_type": "display_data"
    }
   ],
   "source": [
    "ref_temp = 298.15\n",
    "temp_measures = [ref_temp + 400, ref_temp + 400, \n",
    "                 ref_temp + 500, ref_temp + 500, \n",
    "                 ref_temp + 400, ref_temp + 400]\n",
    "\n",
    "gradient = thermal_gradient(space, temp_measures)\n",
    "\n",
    "plt.figure(figsize=(12, 6))\n",
    "plt.plot(space, gradient);\n",
    "plt.xlabel('Axial coordinates');\n",
    "plt.ylabel('Temperature (K)');"
   ]
  },
  {
   "cell_type": "markdown",
   "metadata": {},
   "source": [
    "## One zone diffusion model"
   ]
  },
  {
   "cell_type": "code",
   "execution_count": 7,
   "metadata": {
    "collapsed": true
   },
   "outputs": [],
   "source": [
    "def one_zone_fd(y, time, *args, eps=0.4):\n",
    "    \"\"\"Converts the one-zone diffusion PDE model to ODE by finite difference scheme.\"\"\"\n",
    "    \n",
    "    gradient = np.array(args[0], dtype=float)\n",
    "    \n",
    "    ref_coeff, gridpoints = float(args[1]), int(args[2])\n",
    "    step_size, area =  float(args[3]), float(args[4])\n",
    "    \n",
    "    # Solution vector\n",
    "    dydt = np.zeros(gridpoints)\n",
    "    # Parameter coefficient\n",
    "    phi = step_size ** 2  * eps\n",
    "    \n",
    "    # Reactor inlet\n",
    "    for loc in [1]:\n",
    "        coeff = knudsen_diffusion_coeff(gradient[loc], ref_coeff)\n",
    "        \n",
    "        initial_condition = 2 * step_size * boundary_condition(time) / (coeff * area)\n",
    "        backward = 1 / 3 * (4 * y[loc] - y[loc + 1] + initial_condition)\n",
    "        \n",
    "        dydt[loc] = coeff / phi * (y[loc + 1] - 2 * y[loc] + backward) \n",
    "\n",
    "    # Internal grid \n",
    "    for loc in range(2, gridpoints - 2):\n",
    "        sigma = knudsen_diffusion_coeff(gradient[loc], ref_coeff) / phi\n",
    "        \n",
    "        dydt[loc] = sigma * (y[loc + 1] - 2 * y[loc] + y[loc - 1]) \n",
    "\n",
    "    # Reactor outlet\n",
    "    for loc in [gridpoints - 2]:\n",
    "        sigma = knudsen_diffusion_coeff(gradient[loc], ref_coeff) / phi\n",
    "        \n",
    "        dydt[loc] = sigma * ((-2) * y[loc] + y[loc - 1]) \n",
    "        \n",
    "    return dydt"
   ]
  },
  {
   "cell_type": "code",
   "execution_count": 8,
   "metadata": {
    "collapsed": true
   },
   "outputs": [],
   "source": [
    "def one_zone_numerical(time, *args, num_molecules=1e-9):\n",
    "    \"\"\"Returns reactor exit flow.\"\"\"\n",
    "    \n",
    "    solu = odeint(\n",
    "        one_zone_fd, np.zeros(int(space.size)), time, \n",
    "        args=args\n",
    "    )\n",
    "    \n",
    "    ref_coeff, fstep_size, area = float(args[1]), float(args[3]), float(args[4])\n",
    "    \n",
    "    return solu[:, -2] * ref_coeff * area / (step_size * num_molecules)"
   ]
  },
  {
   "cell_type": "code",
   "execution_count": 9,
   "metadata": {},
   "outputs": [
    {
     "name": "stderr",
     "output_type": "stream",
     "text": [
      "/Users/severinlangberg/anaconda/lib/python3.6/site-packages/ipykernel/__main__.py:7: RuntimeWarning: overflow encountered in exp\n"
     ]
    }
   ],
   "source": [
    "# Parameters\n",
    "ref_coeff = 5.e-3\n",
    "area = np.pi * (0.0055 / 2) ** 2\n",
    "\n",
    "time = np.linspace(0.0, 1.0, gridpoints)\n",
    "\n",
    "model = one_zone_numerical(time, \n",
    "                           gradient,\n",
    "                           ref_coeff, \n",
    "                           gridpoints, \n",
    "                           step_size, \n",
    "                           area)\n"
   ]
  },
  {
   "cell_type": "code",
   "execution_count": 16,
   "metadata": {},
   "outputs": [
    {
     "data": {
      "text/plain": [
       "<matplotlib.legend.Legend at 0x1128b5e48>"
      ]
     },
     "execution_count": 16,
     "metadata": {},
     "output_type": "execute_result"
    },
    {
     "data": {
      "image/png": "[encoded data removed]",
      "text/plain": [
       "<matplotlib.figure.Figure at 0x112780828>"
      ]
     },
     "metadata": {},
     "output_type": "display_data"
    }
   ],
   "source": [
    "analytical_model = one_zone_analytics(\n",
    "    dimensional=True,\n",
    "    adsorption=False,\n",
    "    **{\n",
    "        'time': time,\n",
    "        'space': space,\n",
    "        'num_molecules': 1e-9,\n",
    "        'eps': 0.4,\n",
    "        'coeff': ref_coeff\n",
    "    }\n",
    ")\n",
    "\n",
    "plt.figure(figsize=(12, 8))\n",
    "plt.plot(time, model, label='numerical model')\n",
    "plt.plot(time, analytical_model, label='analytical model')\n",
    "plt.legend(loc='best')"
   ]
  },
  {
   "cell_type": "markdown",
   "metadata": {},
   "source": [
    "## Three zone reactor configurations"
   ]
  },
  {
   "cell_type": "code",
   "execution_count": null,
   "metadata": {
    "collapsed": true
   },
   "outputs": [],
   "source": [
    "# Three zone reactor\n",
    "gridpoints = 1e4 \n",
    "zones = np.array([0.016, 0.008, 0.016], dtype=float)                             \n",
    "\n",
    "grid = np.array(zones * gridpoints, dtype=int)          \n",
    "\n",
    "grid_size = np.sum(grid)                        \n",
    "step_size = np.sum(zones) / (grid_size - 1)  \n",
    "\n",
    "space = np.linspace(0, np.sum(zones), grid_size)"
   ]
  },
  {
   "cell_type": "markdown",
   "metadata": {},
   "source": [
    "## Three zone temperature gradient"
   ]
  },
  {
   "cell_type": "code",
   "execution_count": null,
   "metadata": {},
   "outputs": [],
   "source": [
    "ref_temp = 298.15\n",
    "temp_measures = [ref_temp + 200, ref_temp + 200, \n",
    "                 ref_temp + 300, ref_temp + 400, \n",
    "                 ref_temp + 200, ref_temp + 200]\n",
    "\n",
    "gradient = thermal_gradient(space, temp_measures)\n",
    "\n",
    "plt.figure(figsize=(12, 6))\n",
    "plt.plot(space, gradient);\n",
    "plt.xlabel('Axial coordinates (m)', fontsize=15);\n",
    "plt.ylabel('Temperature (K)', fontsize=(15));"
   ]
  },
  {
   "cell_type": "markdown",
   "metadata": {},
   "source": [
    "## Three zone diffusion model"
   ]
  },
  {
   "cell_type": "code",
   "execution_count": null,
   "metadata": {},
   "outputs": [],
   "source": [
    "def _three_zone_fd(y, time, *args, eps=0.4):\n",
    "    \"\"\"Converts the three-zone diffusion PDE model to ODE by finite differences.\"\"\"\n",
    "    \n",
    "    gradient = np.array(args[0], dtype=float)\n",
    "    ref_coeffs = np.array(args[1], dtype=float)\n",
    "    grid = np.array(args[2], dtype=int)\n",
    "\n",
    "    step_size, area = float(args[3]), float(args[4])\n",
    "    \n",
    "    # Solution vector\n",
    "    dydt = np.zeros(int(np.sum(grid)))\n",
    "    # Parameter coefficient\n",
    "    phi = step_size ** 2  * eps\n",
    "    \n",
    "    # Reactor inlet\n",
    "    for loc in [int(1)]:\n",
    "        coeff = knudsen_diffusion_coeff(gradient[loc], ref_coeffs[0])\n",
    "        \n",
    "        initial_condition = 2 * step_size * boundary_condition(time) / (coeff * area)\n",
    "        backward = 1 / 3 * (4 * y[loc] - y[loc + 1] + initial_condition)\n",
    "        \n",
    "        dydt[loc] = coeff / phi * (y[loc + 1] - 2 * y[loc] + backward) \n",
    "        \n",
    "    # Internal grid zone one\n",
    "    for loc in range(int(2), int(grid[0] - 1)):\n",
    "        sigma = knudsen_diffusion_coeff(gradient[loc], ref_coeffs[0]) / phi\n",
    "        \n",
    "        dydt[loc] = sigma * (y[loc + 1] - 2 * y[loc] + y[loc - 1]) \n",
    "    \n",
    "    # Final grid point in zone one\n",
    "    for loc in [int(grid[0] - 1)]:\n",
    "        coeff_zone_one = knudsen_diffusion_coeff(gradient[loc], ref_coeffs[0])\n",
    "        coeff_zone_two = knudsen_diffusion_coeff(gradient[loc], ref_coeffs[1])\n",
    "        \n",
    "        backward = 4 * coeff_zone_one * y[loc] - coeff_zone_one * y[loc - 1]\n",
    "        forward = 4 * coeff_zone_two * y[loc + 2] - coeff_zone_two * y[loc + 3]\n",
    "        zone_final = (backward + forward) / (3 * coeff_zone_one + 3 * coeff_zone_two)\n",
    "\n",
    "        dydt[loc] = coeff_zone_one / phi * (zone_final - 2 * y[loc] + y[loc - 1])\n",
    "        \n",
    "    # Boundary between zone one and two\n",
    "    for loc in [int(grid[0])]:\n",
    "        coeff_zone_one = knudsen_diffusion_coeff(gradient[loc], ref_coeffs[0])\n",
    "        coeff_zone_two = knudsen_diffusion_coeff(gradient[loc], ref_coeffs[1])\n",
    "        \n",
    "        backward = 4 * coeff_zone_one * y[loc - 1] - coeff_zone_one * y[loc - 2]\n",
    "        forward = 4 * coeff_zone_two * y[loc + 1] - coeff_zone_two * y[loc + 2]\n",
    "        boundary = (backward + forward) / (3 * coeff_zone_one + 3 * coeff_zone_two)\n",
    "\n",
    "        dydt[loc] = coeff_zone_one / phi * (y[loc + 1] - 2 * boundary + y[loc - 1])\n",
    "        \n",
    "    # Initial grid point in zone two\n",
    "    for loc in [grid[0] + 1]:\n",
    "        coeff_zone_one = knudsen_diffusion_coeff(gradient[loc], ref_coeffs[0])\n",
    "        coeff_zone_two = knudsen_diffusion_coeff(gradient[loc], ref_coeffs[1])\n",
    "        \n",
    "        backward = 4 * coeff_zone_one * y[loc - 2] - coeff_zone_one * y[loc - 3]\n",
    "        forward = 4 * coeff_zone_two * y[loc] - coeff_zone_two * y[loc + 1]\n",
    "        zone_initial = (backward + forward) / (3 * coeff_zone_one + 3 * coeff_zone_two)\n",
    "\n",
    "        dydt[loc] = coeff_zone_two / phi * (y[loc + 1] - 2 * y[loc] + zone_initial)\n",
    "\n",
    "    # Internal grid zone two\n",
    "    for loc in range (int(grid[0] + 2), int(np.sum(grid[:2]) - 1)):\n",
    "        coeff = knudsen_diffusion_coeff(gradient[loc], ref_coeffs[1])\n",
    "        \n",
    "        dydt[loc] = coeff / phi * (y[loc + 1] - 2 * y[loc] + y[loc - 1])\n",
    "\n",
    "    # Final grid point in zone two\n",
    "    for loc in [int(np.sum(grid[:2]) - 1)]:\n",
    "        coeff_zone_two = knudsen_diffusion_coeff(gradient[loc], ref_coeffs[1])\n",
    "        coeff_zone_three = knudsen_diffusion_coeff(gradient[loc], ref_coeffs[2])\n",
    "        \n",
    "        backward = 4 * coeff_zone_two * y[loc] - coeff_zone_two * y[loc - 1]\n",
    "        forward = 4 * coeff_zone_three * y[loc + 2] - coeff_zone_three * y[loc + 3]\n",
    "        zone_final = (backward + forward) / (3 * coeff_zone_two + 3 * coeff_zone_three)\n",
    "\n",
    "        dydt[loc] = coeff_zone_two / phi * (zone_final - 2 * y[loc] + y[loc - 1])\n",
    "    \n",
    "    # Boundary between zone two and three\n",
    "    for loc in [int(np.sum(grid[:2]))]:\n",
    "        coeff_zone_two = knudsen_diffusion_coeff(gradient[loc], ref_coeffs[1])\n",
    "        coeff_zone_three = knudsen_diffusion_coeff(gradient[loc], ref_coeffs[2])\n",
    "        \n",
    "        backward = 4 * coeff_zone_two * y[loc - 1] - coeff_zone_two * y[loc - 2]\n",
    "        forward = 4 * coeff_zone_three * y[loc + 1] - coeff_zone_three * y[loc + 2]\n",
    "        boundary = (backward + forward) / (3 * coeff_zone_two + 3 * coeff_zone_three)\n",
    "\n",
    "        dydt[loc] = coeff_zone_two / phi * (y[loc + 1] - 2 * boundary + y[loc - 1])\n",
    "\n",
    "    # Initial grid point of zone three\n",
    "    for loc in [int(np.sum(grid[:2]) + 1)]:\n",
    "        coeff_zone_two = knudsen_diffusion_coeff(gradient[loc], ref_coeffs[1])\n",
    "        coeff_zone_three = knudsen_diffusion_coeff(gradient[loc], ref_coeffs[2])\n",
    "        \n",
    "        backward = 4 * coeff_zone_two * y[loc - 2] - coeff_zone_two * y[loc - 3]\n",
    "        forward = 4 * coeff_zone_three * y[loc] - coeff_zone_three * y[loc + 1]\n",
    "        zone_initial = (backward + forward) / (3 * coeff_zone_two + 3 * coeff_zone_three)\n",
    "\n",
    "        dydt[loc] = coeff_zone_three / phi * (y[loc + 1] - 2 * y[loc] + zone_initial)\n",
    "        \n",
    "    # Internal grid of zone three\n",
    "    for loc in range(int(np.sum(grid[:2]) + 2), int(np.sum(grid) - 2)):\n",
    "        coeff = knudsen_diffusion_coeff(gradient[loc], ref_coeffs[2])\n",
    "        \n",
    "        dydt[loc] = coeff / phi  * (y[loc + 1] - 2 * y[loc] + y[loc - 1])\n",
    "    \n",
    "    for loc in [int(np.sum(grid) - 2)]:\n",
    "        coeff = knudsen_diffusion_coeff(gradient[loc], ref_coeffs[2])\n",
    "\n",
    "        dydt[loc] = coeff / phi * (-2 * y[loc] + y[loc - 1])\n",
    "        \n",
    "    return dydt"
   ]
  },
  {
   "cell_type": "code",
   "execution_count": null,
   "metadata": {
    "collapsed": true
   },
   "outputs": [],
   "source": [
    "def three_zone_numerical(time, *args, num_molecules=1e-9):\n",
    "    \"\"\"Returns reactor exit flow.\"\"\"\n",
    "    \n",
    "    solu = odeint(\n",
    "        three_zone_fd, np.zeros(int(space.size)), time, \n",
    "        args=args\n",
    "    )\n",
    "    print(solu[:, -2])\n",
    "    ref_coeffs = np.array(args[1], dtype=float)\n",
    "    step_size, area = float(args[3]), float(args[4])\n",
    "    \n",
    "    return solu[:, -2] * ref_coeffs[1] * area / (step_size * num_molecules)"
   ]
  },
  {
   "cell_type": "code",
   "execution_count": null,
   "metadata": {},
   "outputs": [],
   "source": [
    "# Parameters\n",
    "ref_coeffs = [5.e-3, 5.e-3, 5.e-3]\n",
    "area = np.pi * (0.0055) ** 2\n",
    "\n",
    "time = np.linspace(0.0, 1.0, gridpoints)\n",
    "\n",
    "model = three_zone_numerical(time,  \n",
    "                             gradient,\n",
    "                             ref_coeffs,\n",
    "                             grid, \n",
    "                             step_size, \n",
    "                             area)\n",
    "\n",
    "plot_exit_flow(time, model)"
   ]
  },
  {
   "cell_type": "code",
   "execution_count": null,
   "metadata": {
    "collapsed": true
   },
   "outputs": [],
   "source": []
  }
 ],
 "metadata": {
  "kernelspec": {
   "display_name": "Python [conda env:anaconda]",
   "language": "python",
   "name": "conda-env-anaconda-py"
  },
  "language_info": {
   "codemirror_mode": {
    "name": "ipython",
    "version": 3
   },
   "file_extension": ".py",
   "mimetype": "text/x-python",
   "name": "python",
   "nbconvert_exporter": "python",
   "pygments_lexer": "ipython3",
   "version": "3.6.3"
  }
 },
 "nbformat": 4,
 "nbformat_minor": 2
}
